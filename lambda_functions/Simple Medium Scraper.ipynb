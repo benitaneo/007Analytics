{
 "cells": [
  {
   "cell_type": "markdown",
   "metadata": {},
   "source": [
    "## Medium Scraper\n",
    "A simple scraper built solely for the purpose of retrieving\n",
    "1. Article Title\n",
    "2. Article Link\n",
    "3. Article Summary"
   ]
  },
  {
   "cell_type": "code",
   "execution_count": 1,
   "metadata": {},
   "outputs": [],
   "source": [
    "# Importing required libraries\n",
    "from bs4 import BeautifulSoup as BS\n",
    "import requests\n",
    "import re\n",
    "\n",
    "# topic/(language you want to scrape)\n",
    "url = 'https://medium.com/topic/javascript'\n",
    "\n",
    "def get_website_element(website):\n",
    "    r = requests.get(website)\n",
    "    data = BS(r.content, \"lxml\")\n",
    "    final_stash = []\n",
    "    all_articles = data.find_all(\"div\", {\"class\": \"u-flexColumn\"})\n",
    "    for i in range(len(all_articles)):\n",
    "        weblink = all_articles[i].find('a')['href']\n",
    "        title = (all_articles[i].find('a').text).replace(\"\\xa0\", \" \")\n",
    "        summary = all_articles[i].find(\"h4\", {\"class\": \"ui-summary\"})\n",
    "        try:\n",
    "            if (summary.get_text() != None):\n",
    "                new = [title, weblink, summary.get_text()]\n",
    "                final_stash.append(new)\n",
    "                #print(\"This is the title of the article, \\\"{}\\\" it's respective link, {} , and a short summary, {}.\".format(title, weblink, summary.get_text()))\n",
    "                #print()\n",
    "            else:\n",
    "                #print(\"This is the title of the article, \\\"{}\\\" and it's respective link, {}.\".format(title, weblink))\n",
    "                print()\n",
    "        except:\n",
    "            print(\"pass\")\n",
    "            #print()\n",
    "    return final_stash"
   ]
  },
  {
   "cell_type": "code",
   "execution_count": 2,
   "metadata": {},
   "outputs": [
    {
     "name": "stdout",
     "output_type": "stream",
     "text": [
      "[['13 Noteworthy Points from Google’s JavaScript Style Guide', 'https://medium.freecodecamp.org/google-publishes-a-javascript-style-guide-here-are-some-key-lessons-1810b8ad050b?source=topic_page---8------0----------------', 'For anyone who isn’t already familiar with it, Google puts out a style guide for writing JavaScript that lays out (what Google believes\\xa0to…'], ['Here are examples of everything new in ECMAScript 2016, 2017, and 2018', 'https://medium.freecodecamp.org/here-are-examples-of-everything-new-in-ecmascript-2016-2017-and-2018-d52fa3b5a70e?source=topic_page---8------1----------------', 'It’s hard to keep track of what’s new in JavaScript (ECMAScript). And it’s even harder to find useful code examples.'], ['Cool Chrome DevTools tips and tricks you wish you knew already', 'https://medium.freecodecamp.org/cool-chrome-devtools-tips-and-tricks-you-wish-you-knew-already-f54f65df88d2?source=topic_page---8------2----------------', 'Check out my overview of Chrome DevTools if you’re new to\\xa0them'], ['Stop Making Sense', 'https://medium.com/message/stop-making-sense-b2aa7f0d3079?source=topic_page---8------3----------------', 'We are running out of words for\\xa0code'], ['Building JavaScript Stylesheets', 'https://medium.com/@kurtcagle/building-javascript-stylesheets-c6d5b677f7d6?source=topic_page---8------0----------------', 'There are many facets to the recent EcmaScript 2015–2018 evolution that I believe have had a powerful impact upon the way that I code,\\xa0but…'], ['Flux and Redux', 'https://medium.com/@sidathasiri/flux-and-redux-f6c9560997d7?source=topic_page---8------1----------------', 'If you are working closely with developing React applications, probably the words Flux and Redux might not be strange to you. But most\\xa0of…'], ['Building a Text Editor for a Digital-First Newsroom', 'https://open.nytimes.com/building-a-text-editor-for-a-digital-first-newsroom-f1cb8367fc21?source=topic_page---8------2----------------', 'An inside look at the inner workings of a technology you may take for\\xa0granted'], ['AngularJS, Animated Placeholder & Endless Scrolling', 'https://medium.com/@bootply/angularjs-animated-placeholder-endless-scrolling-1b83c6bdd35a?source=topic_page---8------3----------------', 'Revisiting a CSS Pre-load Preview Technique'], ['Learn React.js in 5 minutes', 'https://medium.freecodecamp.org/learn-react-js-in-5-minutes-526472d292f4?source=topic_page---8------4----------------', 'A quick introduction to the popular JavaScript library.'], ['How to create your first bar chart with D3.js', 'https://medium.freecodecamp.org/how-to-create-your-first-bar-chart-with-d3-js-a0e8ea2df386?source=topic_page---8------5----------------', 'A data visualisation tutorial for\\xa0newbies.']]\n"
     ]
    }
   ],
   "source": [
    "# Javascript-related articles\n",
    "javascript_articles = get_website_element(url)\n",
    "url = 'https://medium.com/topic/javascript'\n",
    "print(javascript_articles)"
   ]
  },
  {
   "cell_type": "code",
   "execution_count": 3,
   "metadata": {},
   "outputs": [
    {
     "name": "stdout",
     "output_type": "stream",
     "text": [
      "[['Progressive Web Apps on iOS are here 🚀', 'https://medium.com/@firt/progressive-web-apps-on-ios-are-here-d00430dee3a7?source=topic_page---8------0----------------', 'With iOS 11.3, Apple has silently added support for the basic set of new technologies behind the idea of “Progressive Web Apps”\\xa0(PWAs)…'], ['Yes, You Should Delete Facebook', 'https://medium.com/s/story/yes-you-should-delete-facebook-heres-why-bc623a3b4625?source=topic_page---8------1----------------', 'How we respond to Facebook today will inform the startups of\\xa0tomorrow'], ['DNS Resolvers Performance compared: CloudFlare x Google x Quad9 x OpenDNS', 'https://medium.com/@nykolas.z/dns-resolvers-performance-compared-cloudflare-x-google-x-quad9-x-opendns-149e803734e5?source=topic_page---8------2----------------', 'A couple of months ago I did a performance comparison between some of the top free DNS Resolvers available. It was just after Quad9\\xa0had…'], ['AirPods and the Three Stages of Apple Criticism', 'https://medium.com/rethink-reviews/airpods-and-the-three-stages-of-apple-criticism-fed70b84e435?source=topic_page---8------3----------------', 'It’s rare for critics, commentators, and especially commenters to admit that they were wrong. One reason is that they are rarely asked\\xa0to…'], ['ARM Mac Part Deux: Less Confusion', 'https://mondaynote.com/arm-mac-part-deux-less-confusion-40ee2c780bc6?source=topic_page---8------0----------------', 'by Jean-Louis Gassée'], ['Our Creeping Surveillance State', 'https://medium.com/@jeffmiller_50455/our-creeping-surveillance-state-c8544e39ca8b?source=topic_page---8------1----------------', 'Beware the siren song of connectivity'], ['Privacy by Design', 'https://medium.com/@naomi_freeman/privacy-by-design-f1d0898a2b01?source=topic_page---8------2----------------', 'With Mark Zuckerberg currently standing trial, for both Facebook and the entire tech industry’s past decade, we have to take a moment\\xa0and…'], ['Google Home vs Alexa', 'https://medium.com/startup-grind/google-home-vs-alexa-56e26f69ac77?source=topic_page---8------3----------------', 'Two Simple User Experience Design Gestures that Delighted a Female\\xa0User'], ['The End of Traffic', 'https://medium.com/@johnzimmer/the-end-of-traffic-6d255c03207d?source=topic_page---8------4----------------', 'Increasing American Prosperity and Quality of\\xa0Life'], ['The Information Age Is “Weaponized”', 'https://extranewsfeed.com/the-information-age-is-weaponized-4d9f2bda8224?source=topic_page---8------5----------------', 'What is it like living in a world of billion dollar lies? Where the social worlds we occupy are fragmented and insular, giving rise to\\xa0echo…']]\n"
     ]
    }
   ],
   "source": [
    "# Technology-related articles\n",
    "url = 'https://medium.com/topic/technology'\n",
    "technology_articles = get_website_element(url)\n",
    "print(technology_articles)"
   ]
  }
 ],
 "metadata": {
  "kernelspec": {
   "display_name": "Python 3",
   "language": "python",
   "name": "python3"
  },
  "language_info": {
   "codemirror_mode": {
    "name": "ipython",
    "version": 3
   },
   "file_extension": ".py",
   "mimetype": "text/x-python",
   "name": "python",
   "nbconvert_exporter": "python",
   "pygments_lexer": "ipython3",
   "version": "3.6.3"
  }
 },
 "nbformat": 4,
 "nbformat_minor": 2
}
